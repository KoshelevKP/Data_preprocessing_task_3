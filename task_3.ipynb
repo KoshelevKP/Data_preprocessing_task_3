{
 "cells": [
  {
   "cell_type": "code",
   "execution_count": 53,
   "metadata": {},
   "outputs": [],
   "source": [
    "# Common imports\n",
    "import pandas as pd\n",
    "import numpy as np\n",
    "import statsmodels.api as sm\n",
    "import statsmodels.formula.api as smf\n",
    "import random\n",
    "from sklearn.linear_model import LinearRegression\n",
    "import math\n",
    "\n",
    "# to make this notebook's output stable across runs\n",
    "np.random.seed(42)\n",
    "\n",
    "# To plot pretty figures\n",
    "import matplotlib\n",
    "import matplotlib.pyplot as plt\n",
    "from mpl_toolkits.mplot3d import axes3d\n",
    "%matplotlib inline\n",
    "\n",
    "plt.rcParams['axes.labelsize'] = 14\n",
    "plt.rcParams['xtick.labelsize'] = 12\n",
    "plt.rcParams['ytick.labelsize'] = 12\n",
    "plt.rcParams['figure.figsize'] = (10, 5)"
   ]
  },
  {
   "cell_type": "code",
   "execution_count": 54,
   "metadata": {},
   "outputs": [],
   "source": [
    "import os\n",
    "import urllib\n",
    "import shutil\n",
    "\n",
    "def download_file(url, dir_path=\"data\"):\n",
    "    if not os.path.exists(dir_path):\n",
    "        os.makedirs(dir_path)\n",
    "        \n",
    "    file_name = os.path.split(url)[-1]\n",
    "    file_path = os.path.join(dir_path, file_name)\n",
    "    \n",
    "    with urllib.request.urlopen(url) as response, open(file_path, 'wb') as out_file:\n",
    "        shutil.copyfileobj(response, out_file)\n",
    "        \n",
    "    return file_path"
   ]
  },
  {
   "cell_type": "code",
   "execution_count": 55,
   "metadata": {},
   "outputs": [],
   "source": [
    "from sklearn.preprocessing import StandardScaler, normalize, MinMaxScaler"
   ]
  },
  {
   "cell_type": "code",
   "execution_count": 56,
   "metadata": {},
   "outputs": [
    {
     "data": {
      "text/html": [
       "<div>\n",
       "<style scoped>\n",
       "    .dataframe tbody tr th:only-of-type {\n",
       "        vertical-align: middle;\n",
       "    }\n",
       "\n",
       "    .dataframe tbody tr th {\n",
       "        vertical-align: top;\n",
       "    }\n",
       "\n",
       "    .dataframe thead th {\n",
       "        text-align: right;\n",
       "    }\n",
       "</style>\n",
       "<table border=\"1\" class=\"dataframe\">\n",
       "  <thead>\n",
       "    <tr style=\"text-align: right;\">\n",
       "      <th></th>\n",
       "      <th>TV</th>\n",
       "      <th>radio</th>\n",
       "      <th>newspaper</th>\n",
       "      <th>sales</th>\n",
       "    </tr>\n",
       "  </thead>\n",
       "  <tbody>\n",
       "    <tr>\n",
       "      <th>0</th>\n",
       "      <td>230.1</td>\n",
       "      <td>37.8</td>\n",
       "      <td>69.2</td>\n",
       "      <td>22.1</td>\n",
       "    </tr>\n",
       "    <tr>\n",
       "      <th>1</th>\n",
       "      <td>44.5</td>\n",
       "      <td>39.3</td>\n",
       "      <td>45.1</td>\n",
       "      <td>10.4</td>\n",
       "    </tr>\n",
       "    <tr>\n",
       "      <th>2</th>\n",
       "      <td>17.2</td>\n",
       "      <td>45.9</td>\n",
       "      <td>69.3</td>\n",
       "      <td>9.3</td>\n",
       "    </tr>\n",
       "    <tr>\n",
       "      <th>3</th>\n",
       "      <td>151.5</td>\n",
       "      <td>41.3</td>\n",
       "      <td>58.5</td>\n",
       "      <td>18.5</td>\n",
       "    </tr>\n",
       "    <tr>\n",
       "      <th>4</th>\n",
       "      <td>180.8</td>\n",
       "      <td>10.8</td>\n",
       "      <td>58.4</td>\n",
       "      <td>12.9</td>\n",
       "    </tr>\n",
       "  </tbody>\n",
       "</table>\n",
       "</div>"
      ],
      "text/plain": [
       "      TV  radio  newspaper  sales\n",
       "0  230.1   37.8       69.2   22.1\n",
       "1   44.5   39.3       45.1   10.4\n",
       "2   17.2   45.9       69.3    9.3\n",
       "3  151.5   41.3       58.5   18.5\n",
       "4  180.8   10.8       58.4   12.9"
      ]
     },
     "execution_count": 56,
     "metadata": {},
     "output_type": "execute_result"
    }
   ],
   "source": [
    "download_file(\"http://www-bcf.usc.edu/~gareth/ISL/Advertising.csv\")\n",
    "adv_df = pd.read_csv('data/Advertising.csv', usecols=[1,2,3,4])\n",
    "adv_df.head()"
   ]
  },
  {
   "cell_type": "code",
   "execution_count": 57,
   "metadata": {},
   "outputs": [],
   "source": [
    "adv_df['log_tv'] = adv_df.TV.apply(lambda x: math.pow(x, 0.4))"
   ]
  },
  {
   "cell_type": "markdown",
   "metadata": {},
   "source": [
    "дата сет разделен 50/50"
   ]
  },
  {
   "cell_type": "code",
   "execution_count": 58,
   "metadata": {},
   "outputs": [
    {
     "name": "stdout",
     "output_type": "stream",
     "text": [
      "Total transactions in train dataset:  200\n",
      "Total transactions in test dataset:  200\n"
     ]
    }
   ],
   "source": [
    "adv_df_test = adv_df.sample(int(len(adv_df)*0.5))\n",
    "# create transactions dataset for train\n",
    "adv_train = adv_df[~adv_df.isin(adv_df_test)].copy()\n",
    "print(\"Total transactions in train dataset: \", len(adv_train))\n",
    "# create transactions dataset for test\n",
    "adv_test = adv_df[adv_df.isin(adv_df_test)].copy()\n",
    "print(\"Total transactions in test dataset: \", len(adv_test))"
   ]
  },
  {
   "cell_type": "code",
   "execution_count": 59,
   "metadata": {},
   "outputs": [
    {
     "name": "stdout",
     "output_type": "stream",
     "text": [
      "RSS: 200.2349956038338\n",
      "RSE: 1.0107458238487674\n",
      "R^2: 0.9273049082016976\n"
     ]
    }
   ],
   "source": [
    "three_x_lm = smf.ols('sales ~ log_tv + radio', adv_train).fit()\n",
    "rss = np.sum(three_x_lm.resid ** 2)\n",
    "print(\"RSS:\", rss)\n",
    "print(\"RSE:\", np.sqrt(rss / (adv_df.shape[0] - 3 - 1)))\n",
    "print(\"R^2:\", three_x_lm.rsquared)"
   ]
  },
  {
   "cell_type": "code",
   "execution_count": 60,
   "metadata": {},
   "outputs": [
    {
     "name": "stdout",
     "output_type": "stream",
     "text": [
      "RSS: 165.22761992229803\n",
      "RSE: 0.9181492584694774\n",
      "R^2: 0.9368194886475539\n"
     ]
    }
   ],
   "source": [
    "three_x_lm = smf.ols('sales ~ log_tv + radio', adv_test).fit()\n",
    "rss = np.sum(three_x_lm.resid ** 2)\n",
    "print(\"RSS:\", rss)\n",
    "print(\"RSE:\", np.sqrt(rss / (adv_df.shape[0] - 3 - 1)))\n",
    "print(\"R^2:\", three_x_lm.rsquared)"
   ]
  },
  {
   "cell_type": "code",
   "execution_count": 61,
   "metadata": {},
   "outputs": [
    {
     "name": "stdout",
     "output_type": "stream",
     "text": [
      "RSS: 269.7967207754173\n",
      "RSE: 1.173249283616756\n",
      "R^2: 0.9020506014720118\n"
     ]
    }
   ],
   "source": [
    "three_x_lm = smf.ols('sales ~ TV + radio', adv_train).fit()\n",
    "rss = np.sum(three_x_lm.resid ** 2)\n",
    "print(\"RSS:\", rss)\n",
    "print(\"RSE:\", np.sqrt(rss / (adv_df.shape[0] - 3 - 1)))\n",
    "print(\"R^2:\", three_x_lm.rsquared)"
   ]
  },
  {
   "cell_type": "code",
   "execution_count": 62,
   "metadata": {
    "scrolled": true
   },
   "outputs": [
    {
     "name": "stdout",
     "output_type": "stream",
     "text": [
      "RSS: 268.16303073846944\n",
      "RSE: 1.1696917235996402\n",
      "R^2: 0.8974585640352025\n"
     ]
    }
   ],
   "source": [
    "three_x_lm = smf.ols('sales ~ TV + radio', adv_test).fit()\n",
    "rss = np.sum(three_x_lm.resid ** 2)\n",
    "print(\"RSS:\", rss)\n",
    "print(\"RSE:\", np.sqrt(rss / (adv_df.shape[0] - 3 - 1)))\n",
    "print(\"R^2:\", three_x_lm.rsquared)"
   ]
  },
  {
   "cell_type": "code",
   "execution_count": 63,
   "metadata": {
    "scrolled": true
   },
   "outputs": [
    {
     "name": "stdout",
     "output_type": "stream",
     "text": [
      "RSS: 263.7072834762901\n",
      "RSE: 1.1599333273333527\n",
      "R^2: 0.9042613648908893\n"
     ]
    }
   ],
   "source": [
    "three_x_lm = smf.ols('sales ~ TV + radio + newspaper', adv_train).fit()\n",
    "rss = np.sum(three_x_lm.resid ** 2)\n",
    "print(\"RSS:\", rss)\n",
    "print(\"RSE:\", np.sqrt(rss / (adv_df.shape[0] - 3 - 1)))\n",
    "print(\"R^2:\", three_x_lm.rsquared)"
   ]
  },
  {
   "cell_type": "markdown",
   "metadata": {},
   "source": [
    "дата сет разделен 70/30"
   ]
  },
  {
   "cell_type": "code",
   "execution_count": 64,
   "metadata": {},
   "outputs": [
    {
     "name": "stdout",
     "output_type": "stream",
     "text": [
      "Total transactions in train dataset:  200\n",
      "Total transactions in test dataset:  200\n"
     ]
    }
   ],
   "source": [
    "adv_df_test = adv_df.sample(int(len(adv_df)*0.7))\n",
    "# create transactions dataset for train\n",
    "adv_train = adv_df[~adv_df.isin(adv_df_test)].copy()\n",
    "print(\"Total transactions in train dataset: \", len(adv_train))\n",
    "# create transactions dataset for test\n",
    "adv_test = adv_df[adv_df.isin(adv_df_test)].copy()\n",
    "print(\"Total transactions in test dataset: \", len(adv_test))"
   ]
  },
  {
   "cell_type": "code",
   "execution_count": 65,
   "metadata": {},
   "outputs": [
    {
     "name": "stdout",
     "output_type": "stream",
     "text": [
      "RSS: 125.55972098639923\n",
      "RSE: 0.8003816723033953\n",
      "R^2: 0.9361058034203864\n"
     ]
    }
   ],
   "source": [
    "three_x_lm = smf.ols('sales ~ log_tv + radio', adv_train).fit()\n",
    "rss = np.sum(three_x_lm.resid ** 2)\n",
    "print(\"RSS:\", rss)\n",
    "print(\"RSE:\", np.sqrt(rss / (adv_df.shape[0] - 3 - 1)))\n",
    "print(\"R^2:\", three_x_lm.rsquared)"
   ]
  },
  {
   "cell_type": "code",
   "execution_count": 66,
   "metadata": {},
   "outputs": [
    {
     "name": "stdout",
     "output_type": "stream",
     "text": [
      "RSS: 233.58677300139493\n",
      "RSE: 1.091681844681461\n",
      "R^2: 0.9315456100577986\n"
     ]
    }
   ],
   "source": [
    "three_x_lm = smf.ols('sales ~ log_tv + radio', adv_test).fit()\n",
    "rss = np.sum(three_x_lm.resid ** 2)\n",
    "print(\"RSS:\", rss)\n",
    "print(\"RSE:\", np.sqrt(rss / (adv_df.shape[0] - 3 - 1)))\n",
    "print(\"R^2:\", three_x_lm.rsquared)"
   ]
  },
  {
   "cell_type": "code",
   "execution_count": 67,
   "metadata": {},
   "outputs": [
    {
     "name": "stdout",
     "output_type": "stream",
     "text": [
      "RSS: 183.5052313239895\n",
      "RSE: 0.9676007338899842\n",
      "R^2: 0.9066187848181623\n"
     ]
    }
   ],
   "source": [
    "three_x_lm = smf.ols('sales ~ TV + radio', adv_train).fit()\n",
    "rss = np.sum(three_x_lm.resid ** 2)\n",
    "print(\"RSS:\", rss)\n",
    "print(\"RSE:\", np.sqrt(rss / (adv_df.shape[0] - 3 - 1)))\n",
    "print(\"R^2:\", three_x_lm.rsquared)"
   ]
  },
  {
   "cell_type": "code",
   "execution_count": 68,
   "metadata": {
    "scrolled": true
   },
   "outputs": [
    {
     "name": "stdout",
     "output_type": "stream",
     "text": [
      "RSS: 357.01429931249777\n",
      "RSE: 1.3496301445598273\n",
      "R^2: 0.8953742296875106\n"
     ]
    }
   ],
   "source": [
    "three_x_lm = smf.ols('sales ~ TV + radio', adv_test).fit()\n",
    "rss = np.sum(three_x_lm.resid ** 2)\n",
    "print(\"RSS:\", rss)\n",
    "print(\"RSE:\", np.sqrt(rss / (adv_df.shape[0] - 3 - 1)))\n",
    "print(\"R^2:\", three_x_lm.rsquared)"
   ]
  },
  {
   "cell_type": "code",
   "execution_count": 69,
   "metadata": {
    "scrolled": true
   },
   "outputs": [
    {
     "name": "stdout",
     "output_type": "stream",
     "text": [
      "RSS: 183.501073630311\n",
      "RSE: 0.9675897723217142\n",
      "R^2: 0.9066209005643198\n"
     ]
    }
   ],
   "source": [
    "three_x_lm = smf.ols('sales ~ TV + radio + newspaper', adv_train).fit()\n",
    "rss = np.sum(three_x_lm.resid ** 2)\n",
    "print(\"RSS:\", rss)\n",
    "print(\"RSE:\", np.sqrt(rss / (adv_df.shape[0] - 3 - 1)))\n",
    "print(\"R^2:\", three_x_lm.rsquared)"
   ]
  },
  {
   "cell_type": "code",
   "execution_count": 70,
   "metadata": {},
   "outputs": [
    {
     "name": "stdout",
     "output_type": "stream",
     "text": [
      "RSS: 357.0128583605467\n",
      "RSE: 1.3496274209236088\n",
      "R^2: 0.895374651969498\n"
     ]
    }
   ],
   "source": [
    "three_x_lm = smf.ols('sales ~ TV + radio + newspaper', adv_test).fit()\n",
    "rss = np.sum(three_x_lm.resid ** 2)\n",
    "print(\"RSS:\", rss)\n",
    "print(\"RSE:\", np.sqrt(rss / (adv_df.shape[0] - 3 - 1)))\n",
    "print(\"R^2:\", three_x_lm.rsquared)"
   ]
  },
  {
   "cell_type": "code",
   "execution_count": 71,
   "metadata": {},
   "outputs": [
    {
     "name": "stdout",
     "output_type": "stream",
     "text": [
      "RSS: 183.501073630311\n",
      "RSE: 0.9675897723217142\n",
      "R^2: 0.9066209005643198\n"
     ]
    }
   ],
   "source": [
    "three_x_lm = smf.ols('sales ~ TV + radio + newspaper', adv_train).fit()\n",
    "rss = np.sum(three_x_lm.resid ** 2)\n",
    "print(\"RSS:\", rss)\n",
    "print(\"RSE:\", np.sqrt(rss / (adv_df.shape[0] - 3 - 1)))\n",
    "print(\"R^2:\", three_x_lm.rsquared)"
   ]
  },
  {
   "cell_type": "markdown",
   "metadata": {},
   "source": [
    "дата сет разделен 80/20"
   ]
  },
  {
   "cell_type": "code",
   "execution_count": 72,
   "metadata": {},
   "outputs": [
    {
     "name": "stdout",
     "output_type": "stream",
     "text": [
      "Total transactions in train dataset:  200\n",
      "Total transactions in test dataset:  200\n"
     ]
    }
   ],
   "source": [
    "adv_df_test = adv_df.sample(int(len(adv_df)*0.1))\n",
    "# create transactions dataset for train\n",
    "adv_train = adv_df[~adv_df.isin(adv_df_test)].copy()\n",
    "print(\"Total transactions in train dataset: \", len(adv_train))\n",
    "# create transactions dataset for test\n",
    "adv_test = adv_df[adv_df.isin(adv_df_test)].copy()\n",
    "print(\"Total transactions in test dataset: \", len(adv_test))"
   ]
  },
  {
   "cell_type": "code",
   "execution_count": 73,
   "metadata": {},
   "outputs": [
    {
     "name": "stdout",
     "output_type": "stream",
     "text": [
      "RSS: 321.59483528227855\n",
      "RSE: 1.280933244134913\n",
      "R^2: 0.9333801307021505\n"
     ]
    }
   ],
   "source": [
    "three_x_lm = smf.ols('sales ~ log_tv + radio', adv_train).fit()\n",
    "rss = np.sum(three_x_lm.resid ** 2)\n",
    "print(\"RSS:\", rss)\n",
    "print(\"RSE:\", np.sqrt(rss / (adv_df.shape[0] - 3 - 1)))\n",
    "print(\"R^2:\", three_x_lm.rsquared)"
   ]
  },
  {
   "cell_type": "code",
   "execution_count": 74,
   "metadata": {},
   "outputs": [
    {
     "name": "stdout",
     "output_type": "stream",
     "text": [
      "RSS: 43.19457059261591\n",
      "RSE: 0.4694469748621499\n",
      "R^2: 0.9209524042683456\n"
     ]
    }
   ],
   "source": [
    "three_x_lm = smf.ols('sales ~ log_tv + radio', adv_test).fit()\n",
    "rss = np.sum(three_x_lm.resid ** 2)\n",
    "print(\"RSS:\", rss)\n",
    "print(\"RSE:\", np.sqrt(rss / (adv_df.shape[0] - 3 - 1)))\n",
    "print(\"R^2:\", three_x_lm.rsquared)"
   ]
  },
  {
   "cell_type": "code",
   "execution_count": 75,
   "metadata": {},
   "outputs": [
    {
     "name": "stdout",
     "output_type": "stream",
     "text": [
      "RSS: 489.27635504211105\n",
      "RSE: 1.5799708648859072\n",
      "R^2: 0.8986441222079234\n"
     ]
    }
   ],
   "source": [
    "three_x_lm = smf.ols('sales ~ TV + radio', adv_train).fit()\n",
    "rss = np.sum(three_x_lm.resid ** 2)\n",
    "print(\"RSS:\", rss)\n",
    "print(\"RSE:\", np.sqrt(rss / (adv_df.shape[0] - 3 - 1)))\n",
    "print(\"R^2:\", three_x_lm.rsquared)"
   ]
  },
  {
   "cell_type": "code",
   "execution_count": 76,
   "metadata": {
    "scrolled": true
   },
   "outputs": [
    {
     "name": "stdout",
     "output_type": "stream",
     "text": [
      "RSS: 44.07445248139375\n",
      "RSE: 0.47420423397236244\n",
      "R^2: 0.9193421892139655\n"
     ]
    }
   ],
   "source": [
    "three_x_lm = smf.ols('sales ~ TV + radio', adv_test).fit()\n",
    "rss = np.sum(three_x_lm.resid ** 2)\n",
    "print(\"RSS:\", rss)\n",
    "print(\"RSE:\", np.sqrt(rss / (adv_df.shape[0] - 3 - 1)))\n",
    "print(\"R^2:\", three_x_lm.rsquared)"
   ]
  },
  {
   "cell_type": "code",
   "execution_count": 77,
   "metadata": {
    "scrolled": true
   },
   "outputs": [
    {
     "name": "stdout",
     "output_type": "stream",
     "text": [
      "RSS: 488.7879819463587\n",
      "RSE: 1.579182140989505\n",
      "R^2: 0.8987452909713429\n"
     ]
    }
   ],
   "source": [
    "three_x_lm = smf.ols('sales ~ TV + radio + newspaper', adv_train).fit()\n",
    "rss = np.sum(three_x_lm.resid ** 2)\n",
    "print(\"RSS:\", rss)\n",
    "print(\"RSE:\", np.sqrt(rss / (adv_df.shape[0] - 3 - 1)))\n",
    "print(\"R^2:\", three_x_lm.rsquared)"
   ]
  },
  {
   "cell_type": "code",
   "execution_count": 78,
   "metadata": {},
   "outputs": [
    {
     "name": "stdout",
     "output_type": "stream",
     "text": [
      "RSS: 42.17042799158744\n",
      "RSE: 0.46384829939866973\n",
      "R^2: 0.9228266215411873\n"
     ]
    }
   ],
   "source": [
    "three_x_lm = smf.ols('sales ~ TV + radio + newspaper', adv_test).fit()\n",
    "rss = np.sum(three_x_lm.resid ** 2)\n",
    "print(\"RSS:\", rss)\n",
    "print(\"RSE:\", np.sqrt(rss / (adv_df.shape[0] - 3 - 1)))\n",
    "print(\"R^2:\", three_x_lm.rsquared)"
   ]
  }
 ],
 "metadata": {
  "kernelspec": {
   "display_name": "Python 3",
   "language": "python",
   "name": "python3"
  },
  "language_info": {
   "codemirror_mode": {
    "name": "ipython",
    "version": 3
   },
   "file_extension": ".py",
   "mimetype": "text/x-python",
   "name": "python",
   "nbconvert_exporter": "python",
   "pygments_lexer": "ipython3",
   "version": "3.6.5"
  }
 },
 "nbformat": 4,
 "nbformat_minor": 2
}
